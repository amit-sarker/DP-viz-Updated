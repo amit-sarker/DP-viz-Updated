{
 "cells": [
  {
   "cell_type": "code",
   "execution_count": null,
   "id": "ef5de19a",
   "metadata": {
    "scrolled": true
   },
   "outputs": [],
   "source": [
    "import numpy as np\n",
    "import pandas as pd\n",
    "import ipywidgets as widgets\n",
    "import sys\n",
    "sys.path.append('../')\n",
    "sys.path.append('../src')\n",
    "import backend\n",
    "import workload_builder as builder\n",
    "from mbi import Domain, Dataset\n",
    "import plots\n",
    "import altair as alt\n",
    "from IPython.display import display, clear_output\n",
    "\n",
    "\n",
    "from IPython.core.display import display, HTML\n",
    "display(HTML(\"<style>.container { width:100% !important; }</style>\"))\n",
    "\n",
    "\n",
    "alt.data_transformers.disable_max_rows()"
   ]
  },
  {
   "cell_type": "code",
   "execution_count": null,
   "id": "3af42d71",
   "metadata": {},
   "outputs": [],
   "source": [
    "domain = Domain(attrs=('Incident Month','Incident Year','Operator','Species Name','Species Quantity'), shape=(12,15,6,7,5))\n",
    "questions = [\"In the past few years, the FAC has been observing a large increase in the number of incidents reported, they would like you to investigate. Type 'next' to start this activity.\",\n",
    "            \"Question 1/5: When did this increase begin? Identify the spike year.\",\n",
    "            \"Question 2/5: What was the number of incidents in the year prior to the spike year?\",\n",
    "            \"Question 3/5: What was the number of incidents in the spike year?\",\n",
    "            \"Question 4/5: Between the two years identified previously, which airline experienced the largest decrease in incidents? We will perform further analysis on this Airline in the next step.\",\n",
    "            \"Question 5/5: We’ve been told by the authorities to investigate incidents during Spring months (MAR,APR,MAY) due a spike in incidents during that time period. How many incidents occur in that range involving the airline you identified previously?\"]\n",
    "\n",
    "yr_operator = {'Incident Year':1, 'Operator':1}\n",
    "airline_month = {'Incident Month':1, 'Operator':1}\n",
    "\n",
    "visualizations = [None, yr_operator, yr_operator, yr_operator, yr_operator, airline_month]\n",
    "prev_spec = None\n",
    "curr_spec = None\n",
    "epsilon_increments = [None,0.05,0.05,0.05,0.05,0.05]\n",
    "budget = 1.0\n",
    "max_tries = 10\n",
    "\n",
    "index = 0\n",
    "tries = 0\n",
    "back_end = None\n",
    "seed=10\n"
   ]
  },
  {
   "cell_type": "markdown",
   "id": "d4cd7430",
   "metadata": {},
   "source": [
    "# Logging"
   ]
  },
  {
   "cell_type": "code",
   "execution_count": null,
   "id": "cc9e3d2d",
   "metadata": {},
   "outputs": [],
   "source": [
    "import logging\n",
    "\n",
    "class OutputWidgetHandler(logging.Handler):\n",
    "    \"\"\" Custom logging handler sending logs to an output widget \"\"\"\n",
    "\n",
    "    def __init__(self, *args, **kwargs):\n",
    "        super(OutputWidgetHandler, self).__init__(*args, **kwargs)\n",
    "        layout = {\n",
    "            'width': '100%',\n",
    "            'height': '160px',\n",
    "            'border': '1px solid black'\n",
    "        }\n",
    "        self.out = widgets.Output(layout=layout)\n",
    "\n",
    "    def emit(self, record):\n",
    "        \"\"\" Overload of logging.Handler method \"\"\"\n",
    "        formatted_record = self.format(record)\n",
    "        new_output = {\n",
    "            'name': 'stdout',\n",
    "            'output_type': 'stream',\n",
    "            'text': formatted_record+'\\n'\n",
    "        }\n",
    "        self.out.outputs = (new_output, ) + self.out.outputs\n",
    "\n",
    "    def show_logs(self):\n",
    "        \"\"\" Show the logs \"\"\"\n",
    "        display(self.out)\n",
    "\n",
    "    def clear_logs(self):\n",
    "        \"\"\" Clear the current logs \"\"\"\n",
    "        self.out.clear_output()\n",
    "\n",
    "\n",
    "logger = logging.getLogger(__name__)\n",
    "handler = OutputWidgetHandler()\n",
    "handler.setFormatter(logging.Formatter('%(asctime)s  - [%(levelname)s] %(message)s'))\n",
    "logger.addHandler(handler)\n",
    "logger.setLevel(logging.INFO)"
   ]
  },
  {
   "cell_type": "code",
   "execution_count": null,
   "id": "7324ec8e",
   "metadata": {},
   "outputs": [],
   "source": [
    "plot_output = widgets.Output()\n",
    "back_end = backend.initialize_backend_wildlife(domain, 'discretized.csv', seed=seed, budget=2.0)"
   ]
  },
  {
   "cell_type": "markdown",
   "id": "322cc3b6",
   "metadata": {},
   "source": [
    "## Buttons"
   ]
  },
  {
   "cell_type": "code",
   "execution_count": null,
   "id": "316a1021",
   "metadata": {},
   "outputs": [],
   "source": [
    "submit_btn = widgets.Button(description='Submit')\n",
    "make_it_better = widgets.Button(description='Remeasure')\n",
    "\n",
    "def on_click_submit(obj):\n",
    "    global index, survey_answers, visualizations, epsilon_increments, curr_spec, back_end\n",
    "    logger.info('Clicked submit')\n",
    "    if answer.value == '':\n",
    "        return\n",
    "    val = answer.value\n",
    "    answer.value = answer.placeholder\n",
    "    survey_answers[index] = val\n",
    "    \n",
    "    if index+1 < len(questions):\n",
    "        index += 1\n",
    "        prompt.value = questions[index]\n",
    "    else:\n",
    "        with plot_output:\n",
    "            clear_output()\n",
    "        submit_btn.close()\n",
    "        interface.close()\n",
    "        bar_label.close()\n",
    "        prompt.value = 'Thanks! Let\\'s move on to the next activity!'\n",
    "        display(prompt)\n",
    "        return\n",
    "    \n",
    "    #back_end = backend.initialize_backend_wildlife(domain, 'discretized.csv', budget=2.0)\n",
    "    \n",
    "    hist = builder.histogram_workload(domain.config, bin_widths=visualizations[index])\n",
    "    if visualizations[index] != visualizations[index-1]: \n",
    "        back_end.measure_hdmm(workload=hist, eps=0.01, restarts=20)\n",
    "    \n",
    "    column_names = list(visualizations[index].keys())\n",
    "    curr_spec = back_end.display(hist)\n",
    "    \n",
    "    with plot_output:\n",
    "        plot_output.clear_output()\n",
    "        plot = plots.linked_hist(column_names[0], column_names[1], data=curr_spec.reset_index(column_names), display_true=False)\n",
    "        display(plot) \n",
    "\n",
    "def on_click_make_it_better(obj):\n",
    "    global index, visualizations, tries\n",
    "    logger.info('Clicked remeasure')\n",
    "\n",
    "    key_val = [x for x in visualizations[index].items()]\n",
    "    measure_dict = {'left': key_val[0], 'right': key_val[1]}\n",
    "    binning(measure_dict, epsilon = epsilon_increments[index])\n",
    "    \n",
    "submit_btn.on_click(on_click_submit)\n",
    "make_it_better.on_click(on_click_make_it_better)"
   ]
  },
  {
   "cell_type": "markdown",
   "id": "3dd6dc5b",
   "metadata": {},
   "source": [
    "## Text Boxes"
   ]
  },
  {
   "cell_type": "code",
   "execution_count": null,
   "id": "3a44ed89",
   "metadata": {},
   "outputs": [],
   "source": [
    "global index\n",
    "prompt = widgets.Textarea(\n",
    "    value=questions[0],\n",
    "    placeholder='',\n",
    "    description='',\n",
    "    disabled=True,\n",
    "    layout=widgets.Layout(width='1000px', height='50px')\n",
    ")\n",
    "\n",
    "answer = widgets.Textarea(\n",
    "    value='',\n",
    "    placeholder='',\n",
    "    description='Answer:',\n",
    "    layout=widgets.Layout(width='300px', height='40px')\n",
    ")\n"
   ]
  },
  {
   "cell_type": "code",
   "execution_count": null,
   "id": "3c5d55e0",
   "metadata": {},
   "outputs": [],
   "source": [
    "back_end = backend.initialize_backend_wildlife(domain, 'discretized.csv', seed=seed, budget=budget)\n",
    "\n",
    "progress_bar = widgets.FloatProgress(min=0.0, max=max_tries) # instantiate the bar\n",
    "progress_bar.style.bar_color = 'red'\n",
    "progress_bar.description = str(tries) + '/' + str(max_tries)\n",
    "budget_spent = widgets.Label(value='Tries')\n",
    "num_answers = len(questions)\n",
    "survey_answers = [0]*num_answers\n",
    "\n",
    "def binning(measure_dict, epsilon=None, group_income=None):\n",
    "    global tries, curr_spec, back_end\n",
    "    \n",
    "    left_col = measure_dict['left'] \n",
    "    right_col = measure_dict['right']\n",
    "    \n",
    "    widths = {left_col[0]:left_col[1], right_col[0]:right_col[1]}\n",
    "    \n",
    "    hist = builder.histogram_workload(domain.config, bin_widths=widths)\n",
    "    \n",
    "    if epsilon is not None:\n",
    "        if tries+1 >= max_tries:\n",
    "            make_it_better.close()\n",
    "        if tries+1 > max_tries:\n",
    "            return\n",
    "        tries += 1\n",
    "        progress_bar.value = tries\n",
    "        progress_bar.description = str(tries) + '/' + str(max_tries)\n",
    "        back_end.measure_hdmm(workload=hist, eps=epsilon, restarts=20)\n",
    "    \n",
    "    prev_spec = curr_spec\n",
    "    prev_spec.rename(columns={'error': 'error_prev', 'plus_error': 'plus_error_prev', 'minus_error': 'minus_error_prev', 'true_count':'true_count_prev', 'noisy_count':'noisy_count_prev'}, inplace=True)\n",
    "    curr_spec = back_end.display(hist)\n",
    "    spec = curr_spec.join(prev_spec, on=[left_col[0], right_col[0]]).reset_index([left_col[0], right_col[0]])\n",
    "    spec = spec.round(0)\n",
    "    \n",
    "    with plot_output:\n",
    "        plot_output.clear_output()\n",
    "        plot = plots.linked_hist_test(left_col[0], right_col[0], data=spec, projection=True,label=False)\n",
    "        display(plot) \n",
    "    \n",
    "box_layout = widgets.Layout(display='flex',\n",
    "    flex_flow='column',\n",
    "    align_items='flex-start',\n",
    "    color='black',\n",
    "    width='50%')\n",
    "\n",
    "bar_label = widgets.HBox([budget_spent, progress_bar, make_it_better])\n",
    "prompt_answer = widgets.VBox([answer, submit_btn], layout=box_layout)"
   ]
  },
  {
   "cell_type": "code",
   "execution_count": null,
   "id": "80609469",
   "metadata": {},
   "outputs": [],
   "source": [
    "display(bar_label)\n",
    "    \n",
    "interface = widgets.VBox([prompt, plot_output, prompt_answer])\n",
    "display(interface)"
   ]
  },
  {
   "cell_type": "code",
   "execution_count": null,
   "id": "1b11bfa6",
   "metadata": {},
   "outputs": [],
   "source": [
    "survey_answers"
   ]
  },
  {
   "cell_type": "code",
   "execution_count": null,
   "id": "2cca9584",
   "metadata": {},
   "outputs": [],
   "source": [
    "handler.show_logs()"
   ]
  },
  {
   "cell_type": "code",
   "execution_count": null,
   "id": "1bcaebab",
   "metadata": {},
   "outputs": [],
   "source": []
  }
 ],
 "metadata": {
  "kernelspec": {
   "display_name": "Python 3 (ipykernel)",
   "language": "python",
   "name": "python3"
  },
  "language_info": {
   "codemirror_mode": {
    "name": "ipython",
    "version": 3
   },
   "file_extension": ".py",
   "mimetype": "text/x-python",
   "name": "python",
   "nbconvert_exporter": "python",
   "pygments_lexer": "ipython3",
   "version": "3.8.13"
  }
 },
 "nbformat": 4,
 "nbformat_minor": 5
}
