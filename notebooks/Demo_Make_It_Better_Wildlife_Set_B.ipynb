{
 "cells": [
  {
   "cell_type": "code",
   "execution_count": null,
   "id": "cc24a1a4",
   "metadata": {
    "scrolled": true
   },
   "outputs": [],
   "source": [
    "import numpy as np\n",
    "import pandas as pd\n",
    "import ipywidgets as widgets\n",
    "import sys\n",
    "sys.path.append('../src')\n",
    "sys.path.append('../')\n",
    "import backend\n",
    "import workload_builder as builder\n",
    "from mbi import Domain, Dataset\n",
    "import plots\n",
    "import altair as alt\n",
    "from IPython.display import display, clear_output\n",
    "\n",
    "\n",
    "from IPython.core.display import display, HTML\n",
    "display(HTML(\"<style>.container { width:100% !important; }</style>\"))\n",
    "\n",
    "\n",
    "alt.data_transformers.disable_max_rows()"
   ]
  },
  {
   "cell_type": "code",
   "execution_count": null,
   "id": "0596be10",
   "metadata": {},
   "outputs": [],
   "source": [
    "domain = Domain(attrs=('Incident Month','Incident Year','Operator','Species Name','Species Quantity'), shape=(12,15,6,7,5))\n",
    "questions = [\"Our team of ecologists is interested in the species involved in the incidents. They have asked you to do some analysis on the strike data. Type 'next' to start this activity.\",\n",
    "            \"Question 1/2: The ecologists would like to know which species had the most total incidents. List the top 3 species in terms of number of incidents from highest to lowest.\",\n",
    "            \"Question 2/2: Picking the species with the second most incidents that you identified in the previous question, how many of those incidents occurred involving that species in 2002?\"]\n",
    "\n",
    "yr_species = {'Incident Year':1, 'Species Name':1}\n",
    "\n",
    "visualizations = [None, yr_species, yr_species]\n",
    "prev_spec = None\n",
    "curr_spec = None\n",
    "epsilon_increments = [None,0.05,0.05]\n",
    "budget = 1.0\n",
    "max_tries = 5\n",
    "seed=10\n",
    "index = 0\n",
    "tries = 0\n",
    "back_end = None\n"
   ]
  },
  {
   "cell_type": "markdown",
   "id": "a498cbc7",
   "metadata": {},
   "source": [
    "# Logging"
   ]
  },
  {
   "cell_type": "code",
   "execution_count": null,
   "id": "3fd0d43c",
   "metadata": {},
   "outputs": [],
   "source": [
    "import logging\n",
    "\n",
    "class OutputWidgetHandler(logging.Handler):\n",
    "    \"\"\" Custom logging handler sending logs to an output widget \"\"\"\n",
    "\n",
    "    def __init__(self, *args, **kwargs):\n",
    "        super(OutputWidgetHandler, self).__init__(*args, **kwargs)\n",
    "        layout = {\n",
    "            'width': '100%',\n",
    "            'height': '160px',\n",
    "            'border': '1px solid black'\n",
    "        }\n",
    "        self.out = widgets.Output(layout=layout)\n",
    "\n",
    "    def emit(self, record):\n",
    "        \"\"\" Overload of logging.Handler method \"\"\"\n",
    "        formatted_record = self.format(record)\n",
    "        new_output = {\n",
    "            'name': 'stdout',\n",
    "            'output_type': 'stream',\n",
    "            'text': formatted_record+'\\n'\n",
    "        }\n",
    "        self.out.outputs = (new_output, ) + self.out.outputs\n",
    "\n",
    "    def show_logs(self):\n",
    "        \"\"\" Show the logs \"\"\"\n",
    "        display(self.out)\n",
    "\n",
    "    def clear_logs(self):\n",
    "        \"\"\" Clear the current logs \"\"\"\n",
    "        self.out.clear_output()\n",
    "\n",
    "\n",
    "logger = logging.getLogger(__name__)\n",
    "handler = OutputWidgetHandler()\n",
    "handler.setFormatter(logging.Formatter('%(asctime)s  - [%(levelname)s] %(message)s'))\n",
    "logger.addHandler(handler)\n",
    "logger.setLevel(logging.INFO)"
   ]
  },
  {
   "cell_type": "code",
   "execution_count": null,
   "id": "c04a6502",
   "metadata": {},
   "outputs": [],
   "source": [
    "plot_output = widgets.Output()\n",
    "back_end = backend.initialize_backend_wildlife(domain, 'discretized.csv', seed=seed, budget=2.0)\n",
    "\n",
    "hist = builder.histogram_workload(domain.config, bin_widths=visualizations[1])\n",
    "back_end.measure_hdmm(workload=hist, eps=0.05, restarts=20)\n"
   ]
  },
  {
   "cell_type": "markdown",
   "id": "f96ac4bc",
   "metadata": {},
   "source": [
    "## Buttons"
   ]
  },
  {
   "cell_type": "code",
   "execution_count": null,
   "id": "c5b58521",
   "metadata": {},
   "outputs": [],
   "source": [
    "submit_btn = widgets.Button(description='Submit')\n",
    "make_it_better = widgets.Button(description='Remeasure')\n",
    "\n",
    "def on_click_submit(obj):\n",
    "    global index, survey_answers, visualizations, epsilon_increments, curr_spec, back_end\n",
    "    logger.info('Clicked submit')\n",
    "    if answer.value == '':\n",
    "        return\n",
    "    val = answer.value\n",
    "    answer.value = answer.placeholder\n",
    "    survey_answers[index] = val\n",
    "    \n",
    "    if index+1 < len(questions):\n",
    "        index += 1\n",
    "        prompt.value = questions[index]\n",
    "    else:\n",
    "        with plot_output:\n",
    "            clear_output()\n",
    "        submit_btn.close()\n",
    "        interface.close()\n",
    "        bar_label.close()\n",
    "        prompt.value = 'Study finished! Thanks for your participation'\n",
    "        display(prompt)\n",
    "        return\n",
    "    \n",
    "    column_names = list(visualizations[1].keys())\n",
    "    curr_spec = back_end.display(hist)\n",
    "    \n",
    "    with plot_output:\n",
    "        plot_output.clear_output()\n",
    "        plot = plots.linked_hist(column_names[0], column_names[1], data=curr_spec.reset_index(column_names), display_true=False, history=False)\n",
    "        display(plot) \n",
    "\n",
    "def on_click_make_it_better(obj):\n",
    "    global index, visualizations, tries\n",
    "    logger.info('Clicked remeasure')\n",
    "\n",
    "    key_val = [x for x in visualizations[index].items()]\n",
    "    measure_dict = {'left': key_val[0], 'right': key_val[1]}\n",
    "    binning(measure_dict, epsilon = epsilon_increments[index])\n",
    "    \n",
    "submit_btn.on_click(on_click_submit)\n",
    "make_it_better.on_click(on_click_make_it_better)"
   ]
  },
  {
   "cell_type": "markdown",
   "id": "1d701e74",
   "metadata": {},
   "source": [
    "## Text Boxes"
   ]
  },
  {
   "cell_type": "code",
   "execution_count": null,
   "id": "ca309dba",
   "metadata": {},
   "outputs": [],
   "source": [
    "global index\n",
    "prompt = widgets.Textarea(\n",
    "    value=questions[0],\n",
    "    placeholder='',\n",
    "    description='',\n",
    "    disabled=True,\n",
    "    layout=widgets.Layout(width='1000px', height='50px')\n",
    ")\n",
    "\n",
    "answer = widgets.Textarea(\n",
    "    value='',\n",
    "    placeholder='',\n",
    "    description='Answer:',\n",
    "    layout=widgets.Layout(width='500px', height='40px')\n",
    ")\n"
   ]
  },
  {
   "cell_type": "code",
   "execution_count": null,
   "id": "73194437",
   "metadata": {},
   "outputs": [],
   "source": [
    "progress_bar = widgets.FloatProgress(min=0.0, max=max_tries) # instantiate the bar\n",
    "progress_bar.style.bar_color = 'red'\n",
    "progress_bar.description = str(tries) + '/' + str(max_tries)\n",
    "budget_spent = widgets.Label(value='Tries')\n",
    "num_answers = len(questions)\n",
    "survey_answers = [0]*num_answers\n",
    "\n",
    "def binning(measure_dict, epsilon=None, group_income=None):\n",
    "    global tries, curr_spec, back_end, back_end\n",
    "    \n",
    "    left_col = measure_dict['left'] \n",
    "    right_col = measure_dict['right']\n",
    "    \n",
    "    widths = {left_col[0]:left_col[1], right_col[0]:right_col[1]}\n",
    "    \n",
    "    hist = builder.histogram_workload(domain.config, bin_widths=widths)\n",
    "    \n",
    "    if epsilon is not None:\n",
    "        if tries+1 >= max_tries:\n",
    "            make_it_better.close()\n",
    "        if tries+1 > max_tries:\n",
    "            return\n",
    "        tries += 1\n",
    "        progress_bar.value = tries\n",
    "        progress_bar.description = str(tries) + '/' + str(max_tries)\n",
    "        back_end.measure_hdmm(workload=hist, eps=epsilon, restarts=20)\n",
    "    \n",
    "    prev_spec = curr_spec\n",
    "    prev_spec.rename(columns={'error': 'error_prev', 'plus_error': 'plus_error_prev', 'minus_error': 'minus_error_prev', 'true_count':'true_count_prev', 'noisy_count':'noisy_count_prev'}, inplace=True)\n",
    "    curr_spec = back_end.display(hist)\n",
    "    spec = curr_spec.join(prev_spec, on=[left_col[0], right_col[0]]).reset_index([left_col[0], right_col[0]])\n",
    "    spec = spec.round(0)\n",
    "    \n",
    "    with plot_output:\n",
    "        plot_output.clear_output()\n",
    "        plot = plots.linked_hist_test(left_col[0], right_col[0], data=spec, projection=True,label=False)\n",
    "        display(plot) \n",
    "    \n",
    "box_layout = widgets.Layout(display='flex',\n",
    "    flex_flow='column',\n",
    "    align_items='flex-start',\n",
    "    color='black',\n",
    "    width='50%')\n",
    "\n",
    "bar_label = widgets.HBox([budget_spent, progress_bar, make_it_better])\n",
    "prompt_answer = widgets.VBox([answer, submit_btn], layout=box_layout)"
   ]
  },
  {
   "cell_type": "code",
   "execution_count": null,
   "id": "d49222ae",
   "metadata": {},
   "outputs": [],
   "source": [
    "# display(bar_label)\n",
    "    \n",
    "interface = widgets.VBox([bar_label,prompt, plot_output, prompt_answer])\n",
    "display(interface)"
   ]
  },
  {
   "cell_type": "code",
   "execution_count": null,
   "id": "89fb6c27",
   "metadata": {},
   "outputs": [],
   "source": [
    "survey_answers"
   ]
  },
  {
   "cell_type": "code",
   "execution_count": null,
   "id": "b3ad057e",
   "metadata": {},
   "outputs": [],
   "source": [
    "handler.show_logs()"
   ]
  },
  {
   "cell_type": "code",
   "execution_count": null,
   "id": "cac60382",
   "metadata": {},
   "outputs": [],
   "source": []
  }
 ],
 "metadata": {
  "kernelspec": {
   "display_name": "Python 3",
   "language": "python",
   "name": "python3"
  },
  "language_info": {
   "codemirror_mode": {
    "name": "ipython",
    "version": 3
   },
   "file_extension": ".py",
   "mimetype": "text/x-python",
   "name": "python",
   "nbconvert_exporter": "python",
   "pygments_lexer": "ipython3",
   "version": "3.8.8"
  }
 },
 "nbformat": 4,
 "nbformat_minor": 5
}
